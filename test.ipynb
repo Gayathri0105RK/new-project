{
 "cells": [
  {
   "cell_type": "code",
   "execution_count": null,
   "metadata": {},
   "outputs": [],
   "source": [
    "conn = sqlite3.connect('database.db')\n",
    "cur=conn.cursor('''create )\n",
    "cur.execute\n",
    "conn.commit()"
   ]
  },
  {
   "cell_type": "code",
   "execution_count": 2,
   "metadata": {},
   "outputs": [],
   "source": [
    "import sqlite3\n",
    "\n",
    "conn = sqlite3.connect('database.db')\n",
    "cursor = conn.cursor()\n",
    "\n",
    "create_table_query = '''\n",
    "CREATE TABLE IF NOT EXISTS predictions (\n",
    "    age REAL,\n",
    "    anaemia INTEGER,\n",
    "    creatinine_phosphokinase REAL,\n",
    "    diabetes INTEGER,\n",
    "    ejection_fraction REAL,\n",
    "    high_blood_pressure INTEGER,\n",
    "    platelets REAL,\n",
    "    serum_creatinine REAL,\n",
    "    serum_sodium REAL,\n",
    "    sex INTEGER,\n",
    "    smoking INTEGER,\n",
    "    time REAL,\n",
    "    predicted_ef REAL\n",
    ");\n",
    "'''\n",
    "\n",
    "cursor.execute(create_table_query)\n",
    "\n",
    "\n",
    "conn.commit()\n",
    "\n",
    "\n"
   ]
  }
 ],
 "metadata": {
  "kernelspec": {
   "display_name": "Python 3",
   "language": "python",
   "name": "python3"
  },
  "language_info": {
   "codemirror_mode": {
    "name": "ipython",
    "version": 3
   },
   "file_extension": ".py",
   "mimetype": "text/x-python",
   "name": "python",
   "nbconvert_exporter": "python",
   "pygments_lexer": "ipython3",
   "version": "3.12.2"
  }
 },
 "nbformat": 4,
 "nbformat_minor": 2
}
